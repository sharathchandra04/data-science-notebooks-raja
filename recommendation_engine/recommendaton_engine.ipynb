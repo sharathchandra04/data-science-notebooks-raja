{
  "nbformat": 4,
  "nbformat_minor": 0,
  "metadata": {
    "colab": {
      "provenance": []
    },
    "kernelspec": {
      "name": "python3",
      "display_name": "Python 3"
    },
    "language_info": {
      "name": "python"
    }
  },
  "cells": [
    {
      "cell_type": "code",
      "source": [
        "import pandas as pd\n",
        "import numpy as np\n",
        "from sklearn.model_selection import train_test_split\n",
        "from tensorflow.keras.preprocessing.sequence import pad_sequences\n",
        "from tensorflow.keras.models import Sequential\n",
        "from tensorflow.keras.layers import Embedding, GRU, Dense\n",
        "from collections import defaultdict\n",
        "from tensorflow.keras.utils import plot_model\n",
        "from pprint import pprint\n",
        "# Step 1: Load Data\n",
        "events = pd.read_csv(\"/events.csv\")\n",
        "print(len(events))\n",
        "\n",
        "item_counts = events['itemid'].value_counts()\n",
        "frequent_items = item_counts[item_counts >= 50].index  # keep items clicked >=5 times\n",
        "events = events[events['itemid'].isin(frequent_items)]\n",
        "print(len(events))\n",
        "\n",
        "events['timestamp'] = pd.to_datetime(events['timestamp'], unit='ms')\n",
        "events = events.sort_values(by=[\"visitorid\", \"timestamp\"])\n",
        "\n",
        "from itertools import groupby\n",
        "# Group by visitor and build sessions without consecutive duplicates\n",
        "def remove_consecutive_duplicates(items):\n",
        "    return [key for key, _ in groupby(items)]\n",
        "\n",
        "\n",
        "visitor_id = events[\"visitorid\"].iloc[10]  # or set manually like visitor_id = 123456\n",
        "print(visitor_id)\n",
        "# Filter events for that visitor\n",
        "visitor_events = events[events[\"visitorid\"] == visitor_id][[\"timestamp\", \"itemid\"]]\n",
        "\n",
        "# Convert to list of tuples and pprint\n",
        "pprint(visitor_events.values.tolist())\n",
        "\n",
        "\n",
        "\n",
        "\n",
        "sessions = events.groupby(\"visitorid\")[\"itemid\"].apply(list).apply(remove_consecutive_duplicates)\n"
      ],
      "metadata": {
        "colab": {
          "base_uri": "https://localhost:8080/"
        },
        "id": "z6g231_JeUqy",
        "outputId": "663c463f-81c4-42b5-d2ae-52a1588d76a3"
      },
      "execution_count": 67,
      "outputs": [
        {
          "output_type": "stream",
          "name": "stdout",
          "text": [
            "2756101\n",
            "1330854\n"
          ]
        },
        {
          "output_type": "stream",
          "name": "stderr",
          "text": [
            "<ipython-input-67-339f5352515b>:19: SettingWithCopyWarning: \n",
            "A value is trying to be set on a copy of a slice from a DataFrame.\n",
            "Try using .loc[row_indexer,col_indexer] = value instead\n",
            "\n",
            "See the caveats in the documentation: https://pandas.pydata.org/pandas-docs/stable/user_guide/indexing.html#returning-a-view-versus-a-copy\n",
            "  events['timestamp'] = pd.to_datetime(events['timestamp'], unit='ms')\n"
          ]
        },
        {
          "output_type": "stream",
          "name": "stdout",
          "text": [
            "2\n",
            "[[Timestamp('2015-08-07 17:51:44.567000'), 325215],\n",
            " [Timestamp('2015-08-07 17:53:33.790000'), 325215],\n",
            " [Timestamp('2015-08-07 17:56:52.664000'), 259884],\n",
            " [Timestamp('2015-08-07 18:01:08.920000'), 216305],\n",
            " [Timestamp('2015-08-07 18:08:25.669000'), 342816],\n",
            " [Timestamp('2015-08-07 18:17:24.375000'), 342816],\n",
            " [Timestamp('2015-08-07 18:17:43.170000'), 216305],\n",
            " [Timestamp('2015-08-07 18:20:57.845000'), 325215]]\n"
          ]
        }
      ]
    },
    {
      "cell_type": "code",
      "source": [
        "\n",
        "print(len(events))"
      ],
      "metadata": {
        "colab": {
          "base_uri": "https://localhost:8080/"
        },
        "id": "HrDSKTWGhPLA",
        "outputId": "6ec76fa3-b641-4bea-9ae1-8a1b87f44c94"
      },
      "execution_count": 68,
      "outputs": [
        {
          "output_type": "stream",
          "name": "stdout",
          "text": [
            "1330854\n"
          ]
        }
      ]
    },
    {
      "cell_type": "code",
      "source": [
        "\n",
        "# Step 2: Group by session\n",
        "MAX_LEN = 5  # window size\n",
        "sessions_raw = events.groupby(\"visitorid\")[\"itemid\"].apply(list)\n",
        "print(f\"Total items: {sum(len(session) for session in sessions_raw)}\")\n",
        "sessions = events.groupby(\"visitorid\")[\"itemid\"].apply(list).apply(remove_consecutive_duplicates)\n",
        "print(f\"Total items: {sum(len(session) for session in sessions)}\")\n",
        "\n"
      ],
      "metadata": {
        "colab": {
          "base_uri": "https://localhost:8080/"
        },
        "id": "3C8B06U1hKWX",
        "outputId": "fb12eb46-c3fb-458a-a1f8-ff2708523300"
      },
      "execution_count": 69,
      "outputs": [
        {
          "output_type": "stream",
          "name": "stdout",
          "text": [
            "Total items: 1330854\n",
            "Total items: 1067244\n"
          ]
        }
      ]
    },
    {
      "cell_type": "code",
      "source": [
        "\n",
        "window_size=MAX_LEN\n",
        "sequences = []\n",
        "targets = []\n",
        "\n",
        "\n",
        "for session in sessions:\n",
        "    if len(session) >= 2:\n",
        "        for i in range(len(session) - window_size):\n",
        "            input_seq = session[i : i + window_size]\n",
        "            target_item = session[i + window_size]\n",
        "            sequences.append(input_seq)\n",
        "            targets.append(target_item)\n",
        "\n",
        "print('sessions --> ', len(sessions))\n",
        "print(sessions[2])\n",
        "ind = 1\n",
        "print(sequences[ind])\n",
        "print(targets[ind])\n"
      ],
      "metadata": {
        "id": "3YkbRYNp0OCc",
        "outputId": "6e378aab-5538-4ddb-ceb1-41cdd14ee388",
        "colab": {
          "base_uri": "https://localhost:8080/"
        }
      },
      "execution_count": 71,
      "outputs": [
        {
          "output_type": "stream",
          "name": "stdout",
          "text": [
            "sessions -->  680641\n",
            "[325215, 259884, 216305, 342816, 216305, 325215]\n",
            "[283115, 38965, 319680, 283115, 319680]\n",
            "38965\n"
          ]
        }
      ]
    },
    {
      "cell_type": "code",
      "source": [
        "\n",
        "# Step 4: Encode items to integers\n",
        "all_items = set([item for seq in sequences for item in seq] + targets)\n",
        "item2idx = {item: idx + 1 for idx, item in enumerate(sorted(all_items))}\n",
        "idx2item = {idx: item for item, idx in item2idx.items()}\n",
        "\n",
        "sequences_encoded = [[item2idx[item] for item in seq] for seq in sequences]\n",
        "targets_encoded = [item2idx[item] for item in targets]\n",
        "\n",
        "# Step 5: Pad sequences\n",
        "X = pad_sequences(sequences_encoded, maxlen=MAX_LEN, padding='pre', dtype='int32')\n",
        "y = np.array(targets_encoded)\n",
        "\n",
        "# Step 6: Train/test split\n",
        "X_train, X_test, y_train, y_test = train_test_split(X, y, test_size=0.2, random_state=42)\n",
        "\n",
        "# Step 7: Build the model\n",
        "num_items = len(item2idx) + 1  # +1 for padding index 0\n",
        "embedding_dim = 64\n",
        "\n",
        "model = Sequential([\n",
        "    Embedding(input_dim=num_items, output_dim=embedding_dim, input_length=MAX_LEN),\n",
        "    GRU(64),\n",
        "    Dense(num_items, activation='softmax')\n",
        "])\n",
        "\n",
        "model.compile(optimizer='adam', loss='sparse_categorical_crossentropy', metrics=['accuracy'])\n",
        "model.summary()\n"
      ],
      "metadata": {
        "colab": {
          "base_uri": "https://localhost:8080/",
          "height": 291
        },
        "id": "KV99PWrJvTEa",
        "outputId": "6f4a7c6c-de3e-4ba7-bfc4-3ce7fcf59573"
      },
      "execution_count": 72,
      "outputs": [
        {
          "output_type": "stream",
          "name": "stderr",
          "text": [
            "/usr/local/lib/python3.11/dist-packages/keras/src/layers/core/embedding.py:90: UserWarning: Argument `input_length` is deprecated. Just remove it.\n",
            "  warnings.warn(\n"
          ]
        },
        {
          "output_type": "display_data",
          "data": {
            "text/plain": [
              "\u001b[1mModel: \"sequential_8\"\u001b[0m\n"
            ],
            "text/html": [
              "<pre style=\"white-space:pre;overflow-x:auto;line-height:normal;font-family:Menlo,'DejaVu Sans Mono',consolas,'Courier New',monospace\"><span style=\"font-weight: bold\">Model: \"sequential_8\"</span>\n",
              "</pre>\n"
            ]
          },
          "metadata": {}
        },
        {
          "output_type": "display_data",
          "data": {
            "text/plain": [
              "┏━━━━━━━━━━━━━━━━━━━━━━━━━━━━━━━━━┳━━━━━━━━━━━━━━━━━━━━━━━━┳━━━━━━━━━━━━━━━┓\n",
              "┃\u001b[1m \u001b[0m\u001b[1mLayer (type)                   \u001b[0m\u001b[1m \u001b[0m┃\u001b[1m \u001b[0m\u001b[1mOutput Shape          \u001b[0m\u001b[1m \u001b[0m┃\u001b[1m \u001b[0m\u001b[1m      Param #\u001b[0m\u001b[1m \u001b[0m┃\n",
              "┡━━━━━━━━━━━━━━━━━━━━━━━━━━━━━━━━━╇━━━━━━━━━━━━━━━━━━━━━━━━╇━━━━━━━━━━━━━━━┩\n",
              "│ embedding_8 (\u001b[38;5;33mEmbedding\u001b[0m)         │ ?                      │   \u001b[38;5;34m0\u001b[0m (unbuilt) │\n",
              "├─────────────────────────────────┼────────────────────────┼───────────────┤\n",
              "│ gru_8 (\u001b[38;5;33mGRU\u001b[0m)                     │ ?                      │   \u001b[38;5;34m0\u001b[0m (unbuilt) │\n",
              "├─────────────────────────────────┼────────────────────────┼───────────────┤\n",
              "│ dense_8 (\u001b[38;5;33mDense\u001b[0m)                 │ ?                      │   \u001b[38;5;34m0\u001b[0m (unbuilt) │\n",
              "└─────────────────────────────────┴────────────────────────┴───────────────┘\n"
            ],
            "text/html": [
              "<pre style=\"white-space:pre;overflow-x:auto;line-height:normal;font-family:Menlo,'DejaVu Sans Mono',consolas,'Courier New',monospace\">┏━━━━━━━━━━━━━━━━━━━━━━━━━━━━━━━━━┳━━━━━━━━━━━━━━━━━━━━━━━━┳━━━━━━━━━━━━━━━┓\n",
              "┃<span style=\"font-weight: bold\"> Layer (type)                    </span>┃<span style=\"font-weight: bold\"> Output Shape           </span>┃<span style=\"font-weight: bold\">       Param # </span>┃\n",
              "┡━━━━━━━━━━━━━━━━━━━━━━━━━━━━━━━━━╇━━━━━━━━━━━━━━━━━━━━━━━━╇━━━━━━━━━━━━━━━┩\n",
              "│ embedding_8 (<span style=\"color: #0087ff; text-decoration-color: #0087ff\">Embedding</span>)         │ ?                      │   <span style=\"color: #00af00; text-decoration-color: #00af00\">0</span> (unbuilt) │\n",
              "├─────────────────────────────────┼────────────────────────┼───────────────┤\n",
              "│ gru_8 (<span style=\"color: #0087ff; text-decoration-color: #0087ff\">GRU</span>)                     │ ?                      │   <span style=\"color: #00af00; text-decoration-color: #00af00\">0</span> (unbuilt) │\n",
              "├─────────────────────────────────┼────────────────────────┼───────────────┤\n",
              "│ dense_8 (<span style=\"color: #0087ff; text-decoration-color: #0087ff\">Dense</span>)                 │ ?                      │   <span style=\"color: #00af00; text-decoration-color: #00af00\">0</span> (unbuilt) │\n",
              "└─────────────────────────────────┴────────────────────────┴───────────────┘\n",
              "</pre>\n"
            ]
          },
          "metadata": {}
        },
        {
          "output_type": "display_data",
          "data": {
            "text/plain": [
              "\u001b[1m Total params: \u001b[0m\u001b[38;5;34m0\u001b[0m (0.00 B)\n"
            ],
            "text/html": [
              "<pre style=\"white-space:pre;overflow-x:auto;line-height:normal;font-family:Menlo,'DejaVu Sans Mono',consolas,'Courier New',monospace\"><span style=\"font-weight: bold\"> Total params: </span><span style=\"color: #00af00; text-decoration-color: #00af00\">0</span> (0.00 B)\n",
              "</pre>\n"
            ]
          },
          "metadata": {}
        },
        {
          "output_type": "display_data",
          "data": {
            "text/plain": [
              "\u001b[1m Trainable params: \u001b[0m\u001b[38;5;34m0\u001b[0m (0.00 B)\n"
            ],
            "text/html": [
              "<pre style=\"white-space:pre;overflow-x:auto;line-height:normal;font-family:Menlo,'DejaVu Sans Mono',consolas,'Courier New',monospace\"><span style=\"font-weight: bold\"> Trainable params: </span><span style=\"color: #00af00; text-decoration-color: #00af00\">0</span> (0.00 B)\n",
              "</pre>\n"
            ]
          },
          "metadata": {}
        },
        {
          "output_type": "display_data",
          "data": {
            "text/plain": [
              "\u001b[1m Non-trainable params: \u001b[0m\u001b[38;5;34m0\u001b[0m (0.00 B)\n"
            ],
            "text/html": [
              "<pre style=\"white-space:pre;overflow-x:auto;line-height:normal;font-family:Menlo,'DejaVu Sans Mono',consolas,'Courier New',monospace\"><span style=\"font-weight: bold\"> Non-trainable params: </span><span style=\"color: #00af00; text-decoration-color: #00af00\">0</span> (0.00 B)\n",
              "</pre>\n"
            ]
          },
          "metadata": {}
        }
      ]
    },
    {
      "cell_type": "code",
      "source": [
        "print(len(X_train))\n"
      ],
      "metadata": {
        "colab": {
          "base_uri": "https://localhost:8080/"
        },
        "id": "03j6xRKugelS",
        "outputId": "1d57f7eb-b77a-4650-848d-7a67b569550d"
      },
      "execution_count": 73,
      "outputs": [
        {
          "output_type": "stream",
          "name": "stdout",
          "text": [
            "111704\n"
          ]
        }
      ]
    },
    {
      "cell_type": "code",
      "source": [
        "\n",
        "# Step 8: Train\n",
        "model.fit(X_train, y_train, epochs=5, batch_size=32, validation_split=0.1)\n",
        "\n",
        "# Step 9: Evaluate\n",
        "loss, accuracy = model.evaluate(X_test, y_test)\n",
        "print(f\"Test Accuracy: {accuracy:.4f}\")\n",
        "\n",
        "# Step 10: Predict next item\n",
        "def recommend_next_item(user_history):\n",
        "    encoded = [item2idx.get(item, 0) for item in user_history]\n",
        "    padded = pad_sequences([encoded], maxlen=MAX_LEN, padding='pre')\n",
        "    print\n",
        "    prediction = model.predict(padded, verbose=0)\n",
        "    top_index = np.argmax(prediction[0])\n",
        "    return idx2item.get(top_index, \"Unknown\")\n",
        "\n",
        "# Example usage\n",
        "sample_session = sessions.iloc[100][:4]  # Simulate an incomplete session\n",
        "print(\"User clicked:\", sample_session)\n",
        "next_item = recommend_next_item(sample_session)\n",
        "print(\"Predicted next item:\", next_item)\n"
      ],
      "metadata": {
        "colab": {
          "base_uri": "https://localhost:8080/"
        },
        "id": "su5LMiVZgnDY",
        "outputId": "f20599af-70dc-4ab8-e07b-52b4573b695d"
      },
      "execution_count": 74,
      "outputs": [
        {
          "output_type": "stream",
          "name": "stdout",
          "text": [
            "Epoch 1/5\n",
            "\u001b[1m3142/3142\u001b[0m \u001b[32m━━━━━━━━━━━━━━━━━━━━\u001b[0m\u001b[37m\u001b[0m \u001b[1m89s\u001b[0m 27ms/step - accuracy: 0.0047 - loss: 8.7998 - val_accuracy: 0.0138 - val_loss: 8.1120\n",
            "Epoch 2/5\n",
            "\u001b[1m3142/3142\u001b[0m \u001b[32m━━━━━━━━━━━━━━━━━━━━\u001b[0m\u001b[37m\u001b[0m \u001b[1m84s\u001b[0m 27ms/step - accuracy: 0.0222 - loss: 7.7149 - val_accuracy: 0.0455 - val_loss: 7.3851\n",
            "Epoch 3/5\n",
            "\u001b[1m3142/3142\u001b[0m \u001b[32m━━━━━━━━━━━━━━━━━━━━\u001b[0m\u001b[37m\u001b[0m \u001b[1m141s\u001b[0m 27ms/step - accuracy: 0.0538 - loss: 6.7738 - val_accuracy: 0.0595 - val_loss: 7.0184\n",
            "Epoch 4/5\n",
            "\u001b[1m3142/3142\u001b[0m \u001b[32m━━━━━━━━━━━━━━━━━━━━\u001b[0m\u001b[37m\u001b[0m \u001b[1m143s\u001b[0m 27ms/step - accuracy: 0.0851 - loss: 6.0971 - val_accuracy: 0.0713 - val_loss: 6.8719\n",
            "Epoch 5/5\n",
            "\u001b[1m3142/3142\u001b[0m \u001b[32m━━━━━━━━━━━━━━━━━━━━\u001b[0m\u001b[37m\u001b[0m \u001b[1m139s\u001b[0m 26ms/step - accuracy: 0.1146 - loss: 5.5684 - val_accuracy: 0.0745 - val_loss: 6.8312\n",
            "\u001b[1m873/873\u001b[0m \u001b[32m━━━━━━━━━━━━━━━━━━━━\u001b[0m\u001b[37m\u001b[0m \u001b[1m9s\u001b[0m 11ms/step - accuracy: 0.0737 - loss: 6.8323\n",
            "Test Accuracy: 0.0749\n",
            "User clicked: [260546]\n",
            "Predicted next item: 71733\n"
          ]
        }
      ]
    },
    {
      "cell_type": "code",
      "source": [
        "sample_session = sessions.iloc[100][:4]  # Simulate an incomplete session\n",
        "print(\"User clicked:\", sample_session)\n",
        "next_item = recommend_next_item(sample_session)\n",
        "print(\"Predicted next item:\", next_item)"
      ],
      "metadata": {
        "id": "5eeLQ29zkLQg",
        "outputId": "0875017c-4f91-47b0-c361-8dcbe3ec3b7a",
        "colab": {
          "base_uri": "https://localhost:8080/"
        }
      },
      "execution_count": 75,
      "outputs": [
        {
          "output_type": "stream",
          "name": "stdout",
          "text": [
            "User clicked: [260546]\n",
            "Predicted next item: 71733\n"
          ]
        }
      ]
    },
    {
      "cell_type": "code",
      "source": [
        "def recommend_next_item1(user_history):\n",
        "    encoded = [item2idx.get(item, 0) for item in user_history]\n",
        "    padded = pad_sequences([encoded], maxlen=MAX_LEN, padding='pre')\n",
        "    print('padded --> ', padded)\n",
        "    prediction = model.predict(padded, verbose=0)\n",
        "    top_index = np.argmax(prediction[0])\n",
        "    print('top_index --> ', top_index)\n",
        "\n",
        "    return idx2item.get(top_index, \"Unknown\")\n",
        "\n"
      ],
      "metadata": {
        "id": "wGquFuJ3pp90"
      },
      "execution_count": 76,
      "outputs": []
    },
    {
      "cell_type": "code",
      "source": [
        "\n",
        "print(sessions.iloc[70])"
      ],
      "metadata": {
        "colab": {
          "base_uri": "https://localhost:8080/"
        },
        "id": "_EVNqcY7sJgd",
        "outputId": "697fc015-e308-4251-8ec8-fb8ab1b2f9c5"
      },
      "execution_count": 80,
      "outputs": [
        {
          "output_type": "stream",
          "name": "stdout",
          "text": [
            "[212357, 354724]\n"
          ]
        }
      ]
    },
    {
      "cell_type": "code",
      "source": [
        "sample_session = sessions.iloc[70][:3]  # Simulate an incomplete session\n",
        "print(\"User clicked:\", sample_session)\n",
        "next_item = recommend_next_item1(sample_session)\n",
        "print(\"Predicted next item:\", next_item)"
      ],
      "metadata": {
        "colab": {
          "base_uri": "https://localhost:8080/"
        },
        "id": "pixT-eeopYhs",
        "outputId": "c500b712-3749-484e-9ca6-ad80ae96405a"
      },
      "execution_count": 82,
      "outputs": [
        {
          "output_type": "stream",
          "name": "stdout",
          "text": [
            "User clicked: [212357, 354724]\n",
            "padded -->  [[   0    0    0    0 7614]]\n",
            "top_index -->  3056\n",
            "Predicted next item: 146613\n"
          ]
        }
      ]
    }
  ]
}